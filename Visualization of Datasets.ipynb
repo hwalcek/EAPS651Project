{
 "cells": [
  {
   "cell_type": "code",
   "execution_count": 21,
   "metadata": {},
   "outputs": [],
   "source": [
    "#Importing Packages\n",
    "import pandas as pd\n",
    "import numpy as np\n",
    "import matplotlib.pyplot as plt\n",
    "from pandas import Series, DataFrame"
   ]
  },
  {
   "cell_type": "markdown",
   "metadata": {},
   "source": [
    "Analysing Guam Data"
   ]
  },
  {
   "cell_type": "code",
   "execution_count": 22,
   "metadata": {},
   "outputs": [
    {
     "data": {
      "text/html": [
       "<div>\n",
       "<style scoped>\n",
       "    .dataframe tbody tr th:only-of-type {\n",
       "        vertical-align: middle;\n",
       "    }\n",
       "\n",
       "    .dataframe tbody tr th {\n",
       "        vertical-align: top;\n",
       "    }\n",
       "\n",
       "    .dataframe thead th {\n",
       "        text-align: right;\n",
       "    }\n",
       "</style>\n",
       "<table border=\"1\" class=\"dataframe\">\n",
       "  <thead>\n",
       "    <tr style=\"text-align: right;\">\n",
       "      <th></th>\n",
       "      <th>Year</th>\n",
       "      <th>Month</th>\n",
       "      <th>Monthly_MSL</th>\n",
       "      <th>Linear_Trend</th>\n",
       "      <th>High_Conf.</th>\n",
       "      <th>Low_Conf.</th>\n",
       "    </tr>\n",
       "  </thead>\n",
       "  <tbody>\n",
       "    <tr>\n",
       "      <th>0</th>\n",
       "      <td>1948</td>\n",
       "      <td>1</td>\n",
       "      <td>-0.001</td>\n",
       "      <td>0.007</td>\n",
       "      <td>0.056</td>\n",
       "      <td>-0.043</td>\n",
       "    </tr>\n",
       "    <tr>\n",
       "      <th>1</th>\n",
       "      <td>1948</td>\n",
       "      <td>2</td>\n",
       "      <td>-0.019</td>\n",
       "      <td>0.006</td>\n",
       "      <td>0.056</td>\n",
       "      <td>-0.043</td>\n",
       "    </tr>\n",
       "    <tr>\n",
       "      <th>2</th>\n",
       "      <td>1948</td>\n",
       "      <td>3</td>\n",
       "      <td>-0.014</td>\n",
       "      <td>0.006</td>\n",
       "      <td>0.056</td>\n",
       "      <td>-0.043</td>\n",
       "    </tr>\n",
       "    <tr>\n",
       "      <th>3</th>\n",
       "      <td>1948</td>\n",
       "      <td>4</td>\n",
       "      <td>0.056</td>\n",
       "      <td>0.006</td>\n",
       "      <td>0.056</td>\n",
       "      <td>-0.043</td>\n",
       "    </tr>\n",
       "    <tr>\n",
       "      <th>4</th>\n",
       "      <td>1948</td>\n",
       "      <td>5</td>\n",
       "      <td>0.068</td>\n",
       "      <td>0.006</td>\n",
       "      <td>0.055</td>\n",
       "      <td>-0.043</td>\n",
       "    </tr>\n",
       "    <tr>\n",
       "      <th>...</th>\n",
       "      <td>...</td>\n",
       "      <td>...</td>\n",
       "      <td>...</td>\n",
       "      <td>...</td>\n",
       "      <td>...</td>\n",
       "      <td>...</td>\n",
       "    </tr>\n",
       "    <tr>\n",
       "      <th>847</th>\n",
       "      <td>2018</td>\n",
       "      <td>8</td>\n",
       "      <td>0.057</td>\n",
       "      <td>0.126</td>\n",
       "      <td>0.198</td>\n",
       "      <td>0.053</td>\n",
       "    </tr>\n",
       "    <tr>\n",
       "      <th>848</th>\n",
       "      <td>2018</td>\n",
       "      <td>9</td>\n",
       "      <td>0.054</td>\n",
       "      <td>0.126</td>\n",
       "      <td>0.199</td>\n",
       "      <td>0.053</td>\n",
       "    </tr>\n",
       "    <tr>\n",
       "      <th>849</th>\n",
       "      <td>2018</td>\n",
       "      <td>10</td>\n",
       "      <td>-0.026</td>\n",
       "      <td>0.126</td>\n",
       "      <td>0.200</td>\n",
       "      <td>0.053</td>\n",
       "    </tr>\n",
       "    <tr>\n",
       "      <th>850</th>\n",
       "      <td>2018</td>\n",
       "      <td>11</td>\n",
       "      <td>-0.055</td>\n",
       "      <td>0.126</td>\n",
       "      <td>0.200</td>\n",
       "      <td>0.052</td>\n",
       "    </tr>\n",
       "    <tr>\n",
       "      <th>851</th>\n",
       "      <td>2018</td>\n",
       "      <td>12</td>\n",
       "      <td>-0.005</td>\n",
       "      <td>0.127</td>\n",
       "      <td>0.201</td>\n",
       "      <td>0.052</td>\n",
       "    </tr>\n",
       "  </tbody>\n",
       "</table>\n",
       "<p>852 rows × 6 columns</p>\n",
       "</div>"
      ],
      "text/plain": [
       "     Year   Month   Monthly_MSL   Linear_Trend   High_Conf.   Low_Conf.\n",
       "0    1948       1        -0.001          0.007        0.056      -0.043\n",
       "1    1948       2        -0.019          0.006        0.056      -0.043\n",
       "2    1948       3        -0.014          0.006        0.056      -0.043\n",
       "3    1948       4         0.056          0.006        0.056      -0.043\n",
       "4    1948       5         0.068          0.006        0.055      -0.043\n",
       "..    ...     ...           ...            ...          ...         ...\n",
       "847  2018       8         0.057          0.126        0.198       0.053\n",
       "848  2018       9         0.054          0.126        0.199       0.053\n",
       "849  2018      10        -0.026          0.126        0.200       0.053\n",
       "850  2018      11        -0.055          0.126        0.200       0.052\n",
       "851  2018      12        -0.005          0.127        0.201       0.052\n",
       "\n",
       "[852 rows x 6 columns]"
      ]
     },
     "execution_count": 22,
     "metadata": {},
     "output_type": "execute_result"
    }
   ],
   "source": [
    "#Reading and Displaying data\n",
    "guamdata= pd.read_csv('1630000_meantrend.csv', index_col=False)\n",
    "guamdata"
   ]
  },
  {
   "cell_type": "code",
   "execution_count": 23,
   "metadata": {},
   "outputs": [
    {
     "data": {
      "text/plain": [
       "DatetimeIndex(['1948-01-01', '1948-02-01', '1948-03-01', '1948-04-01',\n",
       "               '1948-05-01', '1948-06-01', '1948-07-01', '1948-08-01',\n",
       "               '1948-09-01', '1948-10-01',\n",
       "               ...\n",
       "               '2018-03-01', '2018-04-01', '2018-05-01', '2018-06-01',\n",
       "               '2018-07-01', '2018-08-01', '2018-09-01', '2018-10-01',\n",
       "               '2018-11-01', '2018-12-01'],\n",
       "              dtype='datetime64[ns]', length=852, freq='MS')"
      ]
     },
     "execution_count": 23,
     "metadata": {},
     "output_type": "execute_result"
    }
   ],
   "source": [
    "#Creating time step for data \n",
    "tsgd = pd.date_range('1948 1', periods=guamdata.shape[0], freq='MS')\n",
    "tsgd #Display time series"
   ]
  },
  {
   "cell_type": "code",
   "execution_count": 24,
   "metadata": {},
   "outputs": [],
   "source": [
    "#Creating time series \n",
    "TSMSL = Series(guamdata.loc[:,' Monthly_MSL'].values, index=tsgd)"
   ]
  },
  {
   "cell_type": "code",
   "execution_count": 25,
   "metadata": {},
   "outputs": [
    {
     "data": {
      "text/plain": [
       "Text(0.5, 1.0, 'Monthly Mean Sea Level for Apra Harbor, Guam')"
      ]
     },
     "execution_count": 25,
     "metadata": {},
     "output_type": "execute_result"
    },
    {
     "data": {
      "image/png": "[encoded data removed]",
      "text/plain": [
       "<Figure size 432x288 with 1 Axes>"
      ]
     },
     "metadata": {
      "needs_background": "light"
     },
     "output_type": "display_data"
    }
   ],
   "source": [
    "#Plotting time series object\n",
    "ax= TSMSL.plot()\n",
    "ax.set_xlabel('Time')\n",
    "ax.set_ylabel('Mean Sea Level')\n",
    "ax.set_title('Monthly Mean Sea Level for Apra Harbor, Guam')"
   ]
  },
  {
   "cell_type": "code",
   "execution_count": 26,
   "metadata": {},
   "outputs": [
    {
     "data": {
      "text/html": [
       "<div>\n",
       "<style scoped>\n",
       "    .dataframe tbody tr th:only-of-type {\n",
       "        vertical-align: middle;\n",
       "    }\n",
       "\n",
       "    .dataframe tbody tr th {\n",
       "        vertical-align: top;\n",
       "    }\n",
       "\n",
       "    .dataframe thead th {\n",
       "        text-align: right;\n",
       "    }\n",
       "</style>\n",
       "<table border=\"1\" class=\"dataframe\">\n",
       "  <thead>\n",
       "    <tr style=\"text-align: right;\">\n",
       "      <th></th>\n",
       "      <th>Year</th>\n",
       "      <th>Month</th>\n",
       "      <th>Monthly_MSL</th>\n",
       "      <th>Unverified</th>\n",
       "      <th>Linear_Trend</th>\n",
       "      <th>High_Conf.</th>\n",
       "      <th>Low_Conf.</th>\n",
       "    </tr>\n",
       "  </thead>\n",
       "  <tbody>\n",
       "    <tr>\n",
       "      <th>0</th>\n",
       "      <td>1936</td>\n",
       "      <td>1</td>\n",
       "      <td>1.051</td>\n",
       "      <td>U</td>\n",
       "      <td>1.050</td>\n",
       "      <td>1.067</td>\n",
       "      <td>1.033</td>\n",
       "    </tr>\n",
       "    <tr>\n",
       "      <th>1</th>\n",
       "      <td>1936</td>\n",
       "      <td>2</td>\n",
       "      <td>0.916</td>\n",
       "      <td>U</td>\n",
       "      <td>1.049</td>\n",
       "      <td>1.066</td>\n",
       "      <td>1.032</td>\n",
       "    </tr>\n",
       "    <tr>\n",
       "      <th>2</th>\n",
       "      <td>1936</td>\n",
       "      <td>3</td>\n",
       "      <td>0.929</td>\n",
       "      <td>U</td>\n",
       "      <td>1.048</td>\n",
       "      <td>1.065</td>\n",
       "      <td>1.031</td>\n",
       "    </tr>\n",
       "    <tr>\n",
       "      <th>3</th>\n",
       "      <td>1936</td>\n",
       "      <td>4</td>\n",
       "      <td>0.963</td>\n",
       "      <td>U</td>\n",
       "      <td>1.047</td>\n",
       "      <td>1.063</td>\n",
       "      <td>1.030</td>\n",
       "    </tr>\n",
       "    <tr>\n",
       "      <th>4</th>\n",
       "      <td>1936</td>\n",
       "      <td>5</td>\n",
       "      <td>1.052</td>\n",
       "      <td>U</td>\n",
       "      <td>1.046</td>\n",
       "      <td>1.062</td>\n",
       "      <td>1.029</td>\n",
       "    </tr>\n",
       "    <tr>\n",
       "      <th>...</th>\n",
       "      <td>...</td>\n",
       "      <td>...</td>\n",
       "      <td>...</td>\n",
       "      <td>...</td>\n",
       "      <td>...</td>\n",
       "      <td>...</td>\n",
       "      <td>...</td>\n",
       "    </tr>\n",
       "    <tr>\n",
       "      <th>1004</th>\n",
       "      <td>2019</td>\n",
       "      <td>9</td>\n",
       "      <td>-0.111</td>\n",
       "      <td>NaN</td>\n",
       "      <td>-0.065</td>\n",
       "      <td>-0.049</td>\n",
       "      <td>-0.081</td>\n",
       "    </tr>\n",
       "    <tr>\n",
       "      <th>1005</th>\n",
       "      <td>2019</td>\n",
       "      <td>10</td>\n",
       "      <td>-0.213</td>\n",
       "      <td>NaN</td>\n",
       "      <td>-0.066</td>\n",
       "      <td>-0.050</td>\n",
       "      <td>-0.082</td>\n",
       "    </tr>\n",
       "    <tr>\n",
       "      <th>1006</th>\n",
       "      <td>2019</td>\n",
       "      <td>11</td>\n",
       "      <td>-0.205</td>\n",
       "      <td>NaN</td>\n",
       "      <td>-0.067</td>\n",
       "      <td>-0.051</td>\n",
       "      <td>-0.083</td>\n",
       "    </tr>\n",
       "    <tr>\n",
       "      <th>1007</th>\n",
       "      <td>2019</td>\n",
       "      <td>12</td>\n",
       "      <td>-0.004</td>\n",
       "      <td>NaN</td>\n",
       "      <td>-0.068</td>\n",
       "      <td>-0.052</td>\n",
       "      <td>-0.084</td>\n",
       "    </tr>\n",
       "    <tr>\n",
       "      <th>1008</th>\n",
       "      <td>2020</td>\n",
       "      <td>1</td>\n",
       "      <td>-0.059</td>\n",
       "      <td>NaN</td>\n",
       "      <td>-0.069</td>\n",
       "      <td>-0.053</td>\n",
       "      <td>-0.085</td>\n",
       "    </tr>\n",
       "  </tbody>\n",
       "</table>\n",
       "<p>1009 rows × 7 columns</p>\n",
       "</div>"
      ],
      "text/plain": [
       "      Year   Month   Monthly_MSL  Unverified   Linear_Trend   High_Conf.  \\\n",
       "0     1936       1         1.051           U          1.050        1.067   \n",
       "1     1936       2         0.916           U          1.049        1.066   \n",
       "2     1936       3         0.929           U          1.048        1.065   \n",
       "3     1936       4         0.963           U          1.047        1.063   \n",
       "4     1936       5         1.052           U          1.046        1.062   \n",
       "...    ...     ...           ...         ...            ...          ...   \n",
       "1004  2019       9        -0.111         NaN         -0.065       -0.049   \n",
       "1005  2019      10        -0.213         NaN         -0.066       -0.050   \n",
       "1006  2019      11        -0.205         NaN         -0.067       -0.051   \n",
       "1007  2019      12        -0.004         NaN         -0.068       -0.052   \n",
       "1008  2020       1        -0.059         NaN         -0.069       -0.053   \n",
       "\n",
       "       Low_Conf.  \n",
       "0          1.033  \n",
       "1          1.032  \n",
       "2          1.031  \n",
       "3          1.030  \n",
       "4          1.029  \n",
       "...          ...  \n",
       "1004      -0.081  \n",
       "1005      -0.082  \n",
       "1006      -0.083  \n",
       "1007      -0.084  \n",
       "1008      -0.085  \n",
       "\n",
       "[1009 rows x 7 columns]"
      ]
     },
     "execution_count": 26,
     "metadata": {},
     "output_type": "execute_result"
    }
   ],
   "source": [
    "#Reading and Displaying data\n",
    "alaskadata= pd.read_csv('9452210_meantrend.csv', index_col=False)\n",
    "alaskadata"
   ]
  },
  {
   "cell_type": "code",
   "execution_count": 27,
   "metadata": {},
   "outputs": [
    {
     "data": {
      "text/plain": [
       "DatetimeIndex(['1936-01-01', '1936-02-01', '1936-03-01', '1936-04-01',\n",
       "               '1936-05-01', '1936-06-01', '1936-07-01', '1936-08-01',\n",
       "               '1936-09-01', '1936-10-01',\n",
       "               ...\n",
       "               '2019-04-01', '2019-05-01', '2019-06-01', '2019-07-01',\n",
       "               '2019-08-01', '2019-09-01', '2019-10-01', '2019-11-01',\n",
       "               '2019-12-01', '2020-01-01'],\n",
       "              dtype='datetime64[ns]', length=1009, freq='MS')"
      ]
     },
     "execution_count": 27,
     "metadata": {},
     "output_type": "execute_result"
    }
   ],
   "source": [
    "#Creating time step for data \n",
    "tsgd = pd.date_range('1936 1', periods=alaskadata.shape[0], freq='MS')\n",
    "tsgd #Display time series"
   ]
  },
  {
   "cell_type": "code",
   "execution_count": 28,
   "metadata": {},
   "outputs": [],
   "source": [
    "#Creating time series \n",
    "TSMSL = Series(alaskadata.loc[:,' Monthly_MSL'].values, index=tsgd)"
   ]
  },
  {
   "cell_type": "code",
   "execution_count": 29,
   "metadata": {},
   "outputs": [
    {
     "data": {
      "text/plain": [
       "Text(0.5, 1.0, 'Monthly Mean Sea Level for Juneau, Alaska')"
      ]
     },
     "execution_count": 29,
     "metadata": {},
     "output_type": "execute_result"
    },
    {
     "data": {
      "image/png": "[encoded data removed]",
      "text/plain": [
       "<Figure size 432x288 with 1 Axes>"
      ]
     },
     "metadata": {
      "needs_background": "light"
     },
     "output_type": "display_data"
    }
   ],
   "source": [
    "#Plotting time series object\n",
    "ax= TSMSL.plot()\n",
    "ax.set_xlabel('Time')\n",
    "ax.set_ylabel('Mean Sea Level')\n",
    "ax.set_title('Monthly Mean Sea Level for Juneau, Alaska')"
   ]
  },
  {
   "cell_type": "code",
   "execution_count": null,
   "metadata": {},
   "outputs": [],
   "source": []
  }
 ],
 "metadata": {
  "kernelspec": {
   "display_name": "Python 3",
   "language": "python",
   "name": "python3"
  },
  "language_info": {
   "codemirror_mode": {
    "name": "ipython",
    "version": 3
   },
   "file_extension": ".py",
   "mimetype": "text/x-python",
   "name": "python",
   "nbconvert_exporter": "python",
   "pygments_lexer": "ipython3",
   "version": "3.7.6"
  }
 },
 "nbformat": 4,
 "nbformat_minor": 2
}
