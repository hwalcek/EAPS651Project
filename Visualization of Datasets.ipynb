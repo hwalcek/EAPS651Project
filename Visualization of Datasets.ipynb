{
 "cells": [
  {
   "cell_type": "code",
   "execution_count": 8,
   "metadata": {},
   "outputs": [],
   "source": [
    "#Importing Packages\n",
    "import pandas as pd\n",
    "import numpy as np\n",
    "import matplotlib.pyplot as plt\n",
    "from pandas import Series, DataFrame"
   ]
  },
  {
   "cell_type": "markdown",
   "metadata": {},
   "source": [
    "Analysing Guam Data"
   ]
  },
  {
   "cell_type": "code",
   "execution_count": 15,
   "metadata": {},
   "outputs": [
    {
     "data": {
      "text/html": [
       "<div>\n",
       "<style scoped>\n",
       "    .dataframe tbody tr th:only-of-type {\n",
       "        vertical-align: middle;\n",
       "    }\n",
       "\n",
       "    .dataframe tbody tr th {\n",
       "        vertical-align: top;\n",
       "    }\n",
       "\n",
       "    .dataframe thead th {\n",
       "        text-align: right;\n",
       "    }\n",
       "</style>\n",
       "<table border=\"1\" class=\"dataframe\">\n",
       "  <thead>\n",
       "    <tr style=\"text-align: right;\">\n",
       "      <th></th>\n",
       "      <th>Year</th>\n",
       "      <th>Month</th>\n",
       "      <th>Monthly_MSL</th>\n",
       "      <th>Linear_Trend</th>\n",
       "      <th>High_Conf.</th>\n",
       "      <th>Low_Conf.</th>\n",
       "    </tr>\n",
       "  </thead>\n",
       "  <tbody>\n",
       "    <tr>\n",
       "      <td>0</td>\n",
       "      <td>1948</td>\n",
       "      <td>1</td>\n",
       "      <td>-0.001</td>\n",
       "      <td>0.007</td>\n",
       "      <td>0.056</td>\n",
       "      <td>-0.043</td>\n",
       "    </tr>\n",
       "    <tr>\n",
       "      <td>1</td>\n",
       "      <td>1948</td>\n",
       "      <td>2</td>\n",
       "      <td>-0.019</td>\n",
       "      <td>0.006</td>\n",
       "      <td>0.056</td>\n",
       "      <td>-0.043</td>\n",
       "    </tr>\n",
       "    <tr>\n",
       "      <td>2</td>\n",
       "      <td>1948</td>\n",
       "      <td>3</td>\n",
       "      <td>-0.014</td>\n",
       "      <td>0.006</td>\n",
       "      <td>0.056</td>\n",
       "      <td>-0.043</td>\n",
       "    </tr>\n",
       "    <tr>\n",
       "      <td>3</td>\n",
       "      <td>1948</td>\n",
       "      <td>4</td>\n",
       "      <td>0.056</td>\n",
       "      <td>0.006</td>\n",
       "      <td>0.056</td>\n",
       "      <td>-0.043</td>\n",
       "    </tr>\n",
       "    <tr>\n",
       "      <td>4</td>\n",
       "      <td>1948</td>\n",
       "      <td>5</td>\n",
       "      <td>0.068</td>\n",
       "      <td>0.006</td>\n",
       "      <td>0.055</td>\n",
       "      <td>-0.043</td>\n",
       "    </tr>\n",
       "    <tr>\n",
       "      <td>...</td>\n",
       "      <td>...</td>\n",
       "      <td>...</td>\n",
       "      <td>...</td>\n",
       "      <td>...</td>\n",
       "      <td>...</td>\n",
       "      <td>...</td>\n",
       "    </tr>\n",
       "    <tr>\n",
       "      <td>847</td>\n",
       "      <td>2018</td>\n",
       "      <td>8</td>\n",
       "      <td>0.057</td>\n",
       "      <td>0.126</td>\n",
       "      <td>0.198</td>\n",
       "      <td>0.053</td>\n",
       "    </tr>\n",
       "    <tr>\n",
       "      <td>848</td>\n",
       "      <td>2018</td>\n",
       "      <td>9</td>\n",
       "      <td>0.054</td>\n",
       "      <td>0.126</td>\n",
       "      <td>0.199</td>\n",
       "      <td>0.053</td>\n",
       "    </tr>\n",
       "    <tr>\n",
       "      <td>849</td>\n",
       "      <td>2018</td>\n",
       "      <td>10</td>\n",
       "      <td>-0.026</td>\n",
       "      <td>0.126</td>\n",
       "      <td>0.200</td>\n",
       "      <td>0.053</td>\n",
       "    </tr>\n",
       "    <tr>\n",
       "      <td>850</td>\n",
       "      <td>2018</td>\n",
       "      <td>11</td>\n",
       "      <td>-0.055</td>\n",
       "      <td>0.126</td>\n",
       "      <td>0.200</td>\n",
       "      <td>0.052</td>\n",
       "    </tr>\n",
       "    <tr>\n",
       "      <td>851</td>\n",
       "      <td>2018</td>\n",
       "      <td>12</td>\n",
       "      <td>-0.005</td>\n",
       "      <td>0.127</td>\n",
       "      <td>0.201</td>\n",
       "      <td>0.052</td>\n",
       "    </tr>\n",
       "  </tbody>\n",
       "</table>\n",
       "<p>852 rows × 6 columns</p>\n",
       "</div>"
      ],
      "text/plain": [
       "     Year   Month   Monthly_MSL   Linear_Trend   High_Conf.   Low_Conf.\n",
       "0    1948       1        -0.001          0.007        0.056      -0.043\n",
       "1    1948       2        -0.019          0.006        0.056      -0.043\n",
       "2    1948       3        -0.014          0.006        0.056      -0.043\n",
       "3    1948       4         0.056          0.006        0.056      -0.043\n",
       "4    1948       5         0.068          0.006        0.055      -0.043\n",
       "..    ...     ...           ...            ...          ...         ...\n",
       "847  2018       8         0.057          0.126        0.198       0.053\n",
       "848  2018       9         0.054          0.126        0.199       0.053\n",
       "849  2018      10        -0.026          0.126        0.200       0.053\n",
       "850  2018      11        -0.055          0.126        0.200       0.052\n",
       "851  2018      12        -0.005          0.127        0.201       0.052\n",
       "\n",
       "[852 rows x 6 columns]"
      ]
     },
     "execution_count": 15,
     "metadata": {},
     "output_type": "execute_result"
    }
   ],
   "source": [
    "#Reading and Displaying data\n",
    "guamdata= pd.read_csv('1630000_meantrend.csv')\n",
    "guamdata"
   ]
  },
  {
   "cell_type": "code",
   "execution_count": 16,
   "metadata": {},
   "outputs": [
    {
     "data": {
      "text/plain": [
       "DatetimeIndex(['1948-01-01', '1948-02-01', '1948-03-01', '1948-04-01',\n",
       "               '1948-05-01', '1948-06-01', '1948-07-01', '1948-08-01',\n",
       "               '1948-09-01', '1948-10-01',\n",
       "               ...\n",
       "               '2018-03-01', '2018-04-01', '2018-05-01', '2018-06-01',\n",
       "               '2018-07-01', '2018-08-01', '2018-09-01', '2018-10-01',\n",
       "               '2018-11-01', '2018-12-01'],\n",
       "              dtype='datetime64[ns]', length=852, freq='MS')"
      ]
     },
     "execution_count": 16,
     "metadata": {},
     "output_type": "execute_result"
    }
   ],
   "source": [
    "#Creating time step for data \n",
    "tsgd = pd.date_range('1948 1', periods=guamdata.shape[0], freq='MS')\n",
    "tsgd #Display time series"
   ]
  },
  {
   "cell_type": "code",
   "execution_count": 19,
   "metadata": {},
   "outputs": [],
   "source": [
    "#Creating time series \n",
    "TSMSL = Series(guamdata.loc[:,' Monthly_MSL'].values, index=tsgd)"
   ]
  },
  {
   "cell_type": "code",
   "execution_count": 20,
   "metadata": {},
   "outputs": [
    {
     "data": {
      "text/plain": [
       "Text(0.5, 1.0, 'Monthly Mean Sea Level for Apra Harbor, Guam')"
      ]
     },
     "execution_count": 20,
     "metadata": {},
     "output_type": "execute_result"
    },
    {
     "data": {
      "image/png": "[encoded data removed]",
      "text/plain": [
       "<Figure size 432x288 with 1 Axes>"
      ]
     },
     "metadata": {
      "needs_background": "light"
     },
     "output_type": "display_data"
    }
   ],
   "source": [
    "#Plotting time series object\n",
    "ax= TSMSL.plot()\n",
    "ax.set_xlabel('Time')\n",
    "ax.set_ylabel('Mean Sea Level')\n",
    "ax.set_title('Monthly Mean Sea Level for Apra Harbor, Guam')"
   ]
  },
  {
   "cell_type": "code",
   "execution_count": null,
   "metadata": {},
   "outputs": [],
   "source": [
    "#Reading and Displaying data\n",
    "alaskadata= pd.read_csv('9454050_meantrend.csv')\n",
    "alaskadata"
   ]
  },
  {
   "cell_type": "code",
   "execution_count": null,
   "metadata": {},
   "outputs": [],
   "source": [
    "#Creating time step for data \n",
    "tsgd = pd.date_range('1964 5', periods=alaskadata.shape[0], freq='MS')\n",
    "tsgd #Display time series"
   ]
  },
  {
   "cell_type": "code",
   "execution_count": null,
   "metadata": {},
   "outputs": [],
   "source": [
    "#Creating time series \n",
    "TSMSL = Series(alaskadata.loc[:,' Monthly_MSL'].values, index=tsgd)"
   ]
  },
  {
   "cell_type": "code",
   "execution_count": null,
   "metadata": {},
   "outputs": [],
   "source": [
    "#Plotting time series object\n",
    "ax= TSMSL.plot()\n",
    "ax.set_xlabel('Time')\n",
    "ax.set_ylabel('Mean Sea Level')\n",
    "ax.set_title('Monthly Mean Sea Level for Cordova, Alaska')"
   ]
  }
 ],
 "metadata": {
  "kernelspec": {
   "display_name": "Python 3",
   "language": "python",
   "name": "python3"
  },
  "language_info": {
   "codemirror_mode": {
    "name": "ipython",
    "version": 3
   },
   "file_extension": ".py",
   "mimetype": "text/x-python",
   "name": "python",
   "nbconvert_exporter": "python",
   "pygments_lexer": "ipython3",
   "version": "3.7.6"
  }
 },
 "nbformat": 4,
 "nbformat_minor": 2
}
